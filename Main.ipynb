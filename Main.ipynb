{
 "cells": [
  {
   "cell_type": "code",
   "execution_count": 1,
   "metadata": {},
   "outputs": [],
   "source": [
    "import cv2\n",
    "import numpy as np\n",
    "import os\n",
    "import warnings\n",
    "\n",
    "import DetectChars\n",
    "import DetectPlates\n",
    "import PossiblePlate"
   ]
  },
  {
   "cell_type": "code",
   "execution_count": 2,
   "metadata": {},
   "outputs": [],
   "source": [
    "#Constants with RGB values for further use\n",
    "SCALAR_BLACK = (0.0, 0.0, 0.0)\n",
    "SCALAR_WHITE = (255.0, 255.0, 255.0)\n",
    "SCALAR_YELLOW = (0.0, 255.0, 255.0)\n",
    "SCALAR_GREEN = (0.0, 255.0, 0.0)\n",
    "SCALAR_RED = (0.0, 0.0, 255.0)"
   ]
  },
  {
   "cell_type": "code",
   "execution_count": 3,
   "metadata": {},
   "outputs": [],
   "source": [
    "#Main Function\n",
    "def main():\n",
    "    #Attempt KNN training\n",
    "    blnKNNTrainingSuccessful = DetectChars.loadKNNDataAndTrainKNN()         \n",
    "    #If KNN training was not successful\n",
    "    if blnKNNTrainingSuccessful == False:                               \n",
    "        print(\"\\nerror: KNN traning was not successful\\n\")  \n",
    "        return  \n",
    "    #Reading an image\n",
    "    imgOriginalScene  = cv2.imread(\"10.png\")               \n",
    "    if imgOriginalScene is None:                            \n",
    "        print(\"\\nError: Image not read\")                                    \n",
    "        return                                              \n",
    "    #Calling DertectPlates function to detect plates\n",
    "    listOfPossiblePlates = DetectPlates.detectPlatesInScene(imgOriginalScene)           \n",
    "    #Calling DetectChars function to detect characters on plates\n",
    "    listOfPossiblePlates = DetectChars.detectCharsInPlates(listOfPossiblePlates)        \n",
    "    #If no plates were found\n",
    "    if len(listOfPossiblePlates) == 0:                          \n",
    "        print(\"\\nNo license plates were detected\\n\")  \n",
    "    else:                                                       \n",
    "        #Sort the list of possible plates in DESCENDING order (most number of chars to least number of chars)\n",
    "        listOfPossiblePlates.sort(key = lambda possiblePlate: len(possiblePlate.strChars), reverse = True)\n",
    "        #Suppose the plate with the most recognized chars (the first plate in sorted by string length descending order) is the actual plate\n",
    "        licPlate = listOfPossiblePlates[0]\n",
    "        #If no characters were found in the plates\n",
    "        if len(licPlate.strChars) == 0:                    \n",
    "            print(\"\\nNo characters were detected\") \n",
    "            return                                          \n",
    "        #Draw red rectangle around plate\n",
    "        drawRedRectangleAroundPlate(imgOriginalScene, licPlate)             \n",
    "        print(\"\\nLicense plate read from image = \" + licPlate.strChars + \"\\n\")  \n",
    "        #To write license plate text on the image\n",
    "        writeLicensePlateCharsOnImage(imgOriginalScene, licPlate)           \n",
    "        cv2.imshow(\"License plate detected and read!\", imgOriginalScene)                \n",
    "        cv2.imwrite(\"imgOriginalScene.png\", imgOriginalScene)           \n",
    "    cv2.waitKey(0)\n",
    "    return"
   ]
  },
  {
   "cell_type": "code",
   "execution_count": 4,
   "metadata": {},
   "outputs": [],
   "source": [
    "#Fucntion to draw 4 vertices of rotated rectangle\n",
    "def drawRedRectangleAroundPlate(imgOriginalScene, licPlate):\n",
    "    p2fRectPoints = cv2.boxPoints(licPlate.rrLocationOfPlateInScene)           \n",
    "    cv2.line(imgOriginalScene, tuple(p2fRectPoints[0]), tuple(p2fRectPoints[1]), SCALAR_RED, 2)         \n",
    "    cv2.line(imgOriginalScene, tuple(p2fRectPoints[1]), tuple(p2fRectPoints[2]), SCALAR_RED, 2)\n",
    "    cv2.line(imgOriginalScene, tuple(p2fRectPoints[2]), tuple(p2fRectPoints[3]), SCALAR_RED, 2)\n",
    "    cv2.line(imgOriginalScene, tuple(p2fRectPoints[3]), tuple(p2fRectPoints[0]), SCALAR_RED, 2)"
   ]
  },
  {
   "cell_type": "code",
   "execution_count": null,
   "metadata": {},
   "outputs": [
    {
     "name": "stdout",
     "output_type": "stream",
     "text": [
      "Car Z00MN65 has entered the parking lot at 2021-04-25 22:36:27.993978\n",
      "The Car Z00MN65 has exited the parking lot after 1.0002495166666667 minutes\n",
      "Fare is 50.01 Rs\n",
      "\n",
      "License plate read from image = Z00MN65\n",
      "\n"
     ]
    }
   ],
   "source": [
    "#Function to write the characters read on the image\n",
    "def writeLicensePlateCharsOnImage(imgOriginalScene, licPlate):\n",
    "    #This will be the center of the area the text will be written to\n",
    "    ptCenterOfTextAreaX = 0                             \n",
    "    ptCenterOfTextAreaY = 0\n",
    "    #This will be the bottom left of the area that the text will be written to\n",
    "    ptLowerLeftTextOriginX = 0                          \n",
    "    ptLowerLeftTextOriginY = 0\n",
    "    sceneHeight, sceneWidth, sceneNumChannels = imgOriginalScene.shape\n",
    "    plateHeight, plateWidth, plateNumChannels = licPlate.imgPlate.shape\n",
    "    intFontFace = cv2.FONT_HERSHEY_SIMPLEX                      \n",
    "    fltFontScale = float(plateHeight) / 30.0                    \n",
    "    intFontThickness = int(round(fltFontScale * 1.5))           \n",
    "    textSize, baseline = cv2.getTextSize(licPlate.strChars, intFontFace, fltFontScale, intFontThickness)        \n",
    "    #Unpack rotated rectangle into center point, width and height, and angle\n",
    "    ( (intPlateCenterX, intPlateCenterY), (intPlateWidth, intPlateHeight), fltCorrectionAngleInDeg ) = licPlate.rrLocationOfPlateInScene\n",
    "    #Centers\n",
    "    intPlateCenterX = int(intPlateCenterX)              \n",
    "    intPlateCenterY = int(intPlateCenterY)\n",
    "    #The horizontal location of the text area is the same as the length of plate\n",
    "    ptCenterOfTextAreaX = int(intPlateCenterX)         \n",
    "    #If the license plate is in the upper 3/4 of the image\n",
    "    if intPlateCenterY < (sceneHeight * 0.75):\n",
    "        #To write the chars in below the plate\n",
    "        ptCenterOfTextAreaY = int(round(intPlateCenterY)) + int(round(plateHeight * 1.6))\n",
    "    #Else, if the license plate is in the lower 1/4 of the image\n",
    "    else:                                      \n",
    "        #To write the chars in above the plate\n",
    "        ptCenterOfTextAreaY = int(round(intPlateCenterY)) - int(round(plateHeight * 1.6))      \n",
    "    textSizeWidth, textSizeHeight = textSize                \n",
    "    #To calculate the lower left origin of the text area based on the text area center, width, and height\n",
    "    ptLowerLeftTextOriginX = int(ptCenterOfTextAreaX - (textSizeWidth / 2))           \n",
    "    ptLowerLeftTextOriginY = int(ptCenterOfTextAreaY + (textSizeHeight / 2))          \n",
    "    #Write the text on the image\n",
    "    cv2.putText(imgOriginalScene, licPlate.strChars, (ptLowerLeftTextOriginX, ptLowerLeftTextOriginY), intFontFace, fltFontScale, SCALAR_YELLOW, intFontThickness)\n",
    "\n",
    "if __name__ == \"__main__\":\n",
    "    warnings.filterwarnings(\"ignore\", category=DeprecationWarning) \n",
    "    main()"
   ]
  },
  {
   "cell_type": "code",
   "execution_count": null,
   "metadata": {},
   "outputs": [],
   "source": []
  }
 ],
 "metadata": {
  "kernelspec": {
   "display_name": "Python 3",
   "language": "python",
   "name": "python3"
  },
  "language_info": {
   "codemirror_mode": {
    "name": "ipython",
    "version": 3
   },
   "file_extension": ".py",
   "mimetype": "text/x-python",
   "name": "python",
   "nbconvert_exporter": "python",
   "pygments_lexer": "ipython3",
   "version": "3.8.3"
  }
 },
 "nbformat": 4,
 "nbformat_minor": 4
}
